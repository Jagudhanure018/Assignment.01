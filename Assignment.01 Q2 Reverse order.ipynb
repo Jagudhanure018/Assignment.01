{
 "cells": [
  {
   "cell_type": "markdown",
   "id": "9c3e4e8f",
   "metadata": {},
   "source": [
    "Write a Python program that accepts a word from the user and reverse it.\n",
    "Sample Test Case\n",
    "Input : Edyoda\n",
    "output: adoydE"
   ]
  },
  {
   "cell_type": "code",
   "execution_count": 1,
   "id": "6891c58a",
   "metadata": {},
   "outputs": [
    {
     "name": "stdout",
     "output_type": "stream",
     "text": [
      "input a word to reverse: Edyoda\n",
      "Reverse order : adoydE\n"
     ]
    }
   ],
   "source": [
    "word = input(\"input a word to reverse: \")\n",
    "print(\"Reverse order :\", word[::-1])\n"
   ]
  },
  {
   "cell_type": "code",
   "execution_count": null,
   "id": "516cd0bf",
   "metadata": {},
   "outputs": [],
   "source": []
  }
 ],
 "metadata": {
  "kernelspec": {
   "display_name": "Python 3 (ipykernel)",
   "language": "python",
   "name": "python3"
  },
  "language_info": {
   "codemirror_mode": {
    "name": "ipython",
    "version": 3
   },
   "file_extension": ".py",
   "mimetype": "text/x-python",
   "name": "python",
   "nbconvert_exporter": "python",
   "pygments_lexer": "ipython3",
   "version": "3.10.0"
  }
 },
 "nbformat": 4,
 "nbformat_minor": 5
}
